{
 "cells": [
  {
   "cell_type": "markdown",
   "id": "62c4b68e-b78e-4998-b1ae-193f2f6ce538",
   "metadata": {},
   "source": [
    "Import relevant modules/libaries and Load the dataset"
   ]
  },
  {
   "cell_type": "code",
   "execution_count": 489,
   "id": "a416c0bd-11ce-4e4d-b240-ec48545cca06",
   "metadata": {},
   "outputs": [],
   "source": [
    "import numpy as np\n",
    "from sklearn import preprocessing\n",
    "\n",
    "raw_csv_data = np.loadtxt('Audiobooks_data.csv', delimiter=\",\")\n",
    "unscaled_inputs_all = raw_csv_data[:,1:-1]\n",
    "targets_all = raw_csv_data[:,-1]"
   ]
  },
  {
   "cell_type": "markdown",
   "id": "d339b835-d610-4b28-86d7-6d7ba61e80ae",
   "metadata": {},
   "source": [
    "Find number of targets that are 1 (As there are more zeros and less ones)"
   ]
  },
  {
   "cell_type": "code",
   "execution_count": 492,
   "id": "e11040e7-3dc3-4875-93e0-3375760ecec1",
   "metadata": {},
   "outputs": [],
   "source": [
    "num_one_targets=int(np.sum(targets_all))"
   ]
  },
  {
   "cell_type": "markdown",
   "id": "c46f79e7-b924-4bcb-974f-56cf22ef0736",
   "metadata": {},
   "source": [
    "Balance the dataset"
   ]
  },
  {
   "cell_type": "code",
   "execution_count": 495,
   "id": "528bee21-69b6-4512-81a6-ad00d7c9418d",
   "metadata": {},
   "outputs": [],
   "source": [
    "zero_targets_counter=0\n",
    "indices_to_remove=[]\n",
    "for i in range(targets_all.shape[0]):\n",
    "    if targets_all[i]==0:\n",
    "        zero_targets_counter+=1\n",
    "        if zero_targets_counter>num_one_targets:\n",
    "            indices_to_remove.append(i)"
   ]
  },
  {
   "cell_type": "code",
   "execution_count": 497,
   "id": "33227f7b-a667-4db7-8c59-e3061e1a4ec7",
   "metadata": {},
   "outputs": [],
   "source": [
    "unscaled_inputs_equal_priors = np.delete(unscaled_inputs_all, indices_to_remove, axis=0)\n",
    "targets_equal_priors = np.delete(targets_all, indices_to_remove, axis=0)"
   ]
  },
  {
   "cell_type": "markdown",
   "id": "4583b13b-c709-433e-9f51-d60baac26c8b",
   "metadata": {},
   "source": [
    "Standardize / Scale the inputs"
   ]
  },
  {
   "cell_type": "code",
   "execution_count": 500,
   "id": "97771077-904b-4187-ac35-0719d37ec93b",
   "metadata": {},
   "outputs": [],
   "source": [
    "scaled_inputs = preprocessing.scale(unscaled_inputs_equal_priors)"
   ]
  },
  {
   "cell_type": "markdown",
   "id": "1cfb2af2-546c-4ebb-b25b-19aa7d19a7ea",
   "metadata": {},
   "source": [
    "Shuffle the data"
   ]
  },
  {
   "cell_type": "code",
   "execution_count": 503,
   "id": "7d936755-e6b7-4b6d-bd25-584ae17fcad0",
   "metadata": {},
   "outputs": [],
   "source": [
    "shuffled_indices=np.arange(scaled_inputs.shape[0])\n",
    "np.random.shuffle(shuffled_indices)\n",
    "\n",
    "shuffled_inputs = scaled_inputs[shuffled_indices]\n",
    "shuffled_targets = targets_equal_priors[shuffled_indices]"
   ]
  },
  {
   "cell_type": "markdown",
   "id": "cbfa2c2f-441c-4505-a43d-064b631caf61",
   "metadata": {},
   "source": [
    "Split the dataset into train, validation and test"
   ]
  },
  {
   "cell_type": "code",
   "execution_count": 506,
   "id": "2a366f62-7257-4150-94a4-9579d36fa514",
   "metadata": {},
   "outputs": [],
   "source": [
    "samples_count = shuffled_inputs.shape[0]\n",
    "train_samples_count = int(0.8*samples_count)\n",
    "validation_samples_count = int(0.1*samples_count)\n",
    "test_samples_count = samples_count - train_samples_count - validation_samples_count"
   ]
  },
  {
   "cell_type": "code",
   "execution_count": 508,
   "id": "8261b543-9734-49ff-a773-c66175316b45",
   "metadata": {},
   "outputs": [],
   "source": [
    "train_inputs = shuffled_inputs[:train_samples_count]\n",
    "train_targets = shuffled_targets[:train_samples_count]\n",
    "\n",
    "validation_inputs = shuffled_inputs[train_samples_count:train_samples_count+validation_samples_count]\n",
    "validation_targets = shuffled_targets[train_samples_count:train_samples_count+validation_samples_count]\n",
    "\n",
    "test_inputs = shuffled_inputs[train_samples_count+validation_samples_count:]\n",
    "test_targets = shuffled_targets[train_samples_count+validation_samples_count:]"
   ]
  },
  {
   "cell_type": "code",
   "execution_count": 510,
   "id": "78a6f27d-7288-4dfb-be18-94a627367655",
   "metadata": {},
   "outputs": [
    {
     "name": "stdout",
     "output_type": "stream",
     "text": [
      "1791.0 3579 0.5004191114836547\n",
      "221.0 447 0.49440715883668906\n",
      "225.0 448 0.5022321428571429\n"
     ]
    }
   ],
   "source": [
    "print(np.sum(train_targets), train_samples_count, np.sum(train_targets)/train_samples_count)\n",
    "print(np.sum(validation_targets), validation_samples_count, np.sum(validation_targets)/validation_samples_count)\n",
    "print(np.sum(test_targets), test_samples_count, np.sum(test_targets)/test_samples_count)"
   ]
  },
  {
   "cell_type": "code",
   "execution_count": 512,
   "id": "c3124c75-1b3c-43b8-93fb-710453e3e93a",
   "metadata": {},
   "outputs": [],
   "source": [
    "np.savez('Audiobooks_data_train', inputs=train_inputs, targets=train_targets)\n",
    "np.savez('Audiobooks_data_validation', inputs=validation_inputs, targets=validation_targets)\n",
    "np.savez('Audiobooks_data_test', inputs=test_inputs, targets=test_targets)"
   ]
  },
  {
   "cell_type": "code",
   "execution_count": null,
   "id": "7a05aa0e-f2c3-4d63-8cbf-0120c94993e6",
   "metadata": {},
   "outputs": [],
   "source": []
  }
 ],
 "metadata": {
  "kernelspec": {
   "display_name": "Python 3 (ipykernel)",
   "language": "python",
   "name": "python3"
  },
  "language_info": {
   "codemirror_mode": {
    "name": "ipython",
    "version": 3
   },
   "file_extension": ".py",
   "mimetype": "text/x-python",
   "name": "python",
   "nbconvert_exporter": "python",
   "pygments_lexer": "ipython3",
   "version": "3.11.5"
  }
 },
 "nbformat": 4,
 "nbformat_minor": 5
}
