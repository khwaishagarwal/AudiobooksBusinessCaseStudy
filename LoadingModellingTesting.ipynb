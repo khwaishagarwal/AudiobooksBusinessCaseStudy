{
 "cells": [
  {
   "cell_type": "code",
   "execution_count": 61,
   "id": "d7f8ef4a-41f4-43a3-8196-1f50a0d3249d",
   "metadata": {},
   "outputs": [],
   "source": [
    "import numpy as np\n",
    "import tensorflow as tf"
   ]
  },
  {
   "cell_type": "code",
   "execution_count": 63,
   "id": "758aa648-b5e6-421a-bf40-56d0601acfa1",
   "metadata": {},
   "outputs": [],
   "source": [
    "npz=np.load('Audiobooks_data_train.npz')"
   ]
  },
  {
   "cell_type": "code",
   "execution_count": 65,
   "id": "36fc43cf-489d-4398-b2f0-097e557cbb28",
   "metadata": {},
   "outputs": [],
   "source": [
    "train_inputs=npz['inputs'].astype(np.float32)\n",
    "train_targets=npz['targets'].astype(np.int64)"
   ]
  },
  {
   "cell_type": "code",
   "execution_count": 67,
   "id": "f34481ae-a9a7-415d-8926-10a689b1cab1",
   "metadata": {},
   "outputs": [],
   "source": [
    "npz=np.load('Audiobooks_data_validation.npz')"
   ]
  },
  {
   "cell_type": "code",
   "execution_count": 69,
   "id": "feee8580-a37c-428e-9d7c-07def7ea62c5",
   "metadata": {},
   "outputs": [],
   "source": [
    "validation_inputs=npz['inputs'].astype(np.float32)\n",
    "validation_targets=npz['targets'].astype(np.int64)"
   ]
  },
  {
   "cell_type": "code",
   "execution_count": 71,
   "id": "6ac56fee-7a8b-4a1c-a006-79ae9be9bb97",
   "metadata": {},
   "outputs": [],
   "source": [
    "npz=np.load('Audiobooks_data_test.npz')"
   ]
  },
  {
   "cell_type": "code",
   "execution_count": 73,
   "id": "a35b7511-3d8c-4b75-9635-b88138ea153a",
   "metadata": {},
   "outputs": [],
   "source": [
    "test_inputs=npz['inputs'].astype(np.float32)\n",
    "test_targets=npz['targets'].astype(np.int64)"
   ]
  },
  {
   "cell_type": "markdown",
   "id": "2038bc23-dc14-48d2-8862-c01321decb13",
   "metadata": {},
   "source": [
    "MODEL"
   ]
  },
  {
   "cell_type": "code",
   "execution_count": 76,
   "id": "d973890a-a800-463f-b495-4d40eeb884b9",
   "metadata": {},
   "outputs": [
    {
     "name": "stdout",
     "output_type": "stream",
     "text": [
      "Epoch 1/100\n",
      "36/36 - 0s - 10ms/step - accuracy: 0.6337 - loss: 0.6399 - val_accuracy: 0.8031 - val_loss: 0.5297\n",
      "Epoch 2/100\n",
      "36/36 - 0s - 548us/step - accuracy: 0.7586 - loss: 0.4887 - val_accuracy: 0.8166 - val_loss: 0.4412\n",
      "Epoch 3/100\n",
      "36/36 - 0s - 541us/step - accuracy: 0.7787 - loss: 0.4274 - val_accuracy: 0.8009 - val_loss: 0.3961\n",
      "Epoch 4/100\n",
      "36/36 - 0s - 530us/step - accuracy: 0.7835 - loss: 0.4005 - val_accuracy: 0.8210 - val_loss: 0.3813\n",
      "Epoch 5/100\n",
      "36/36 - 0s - 540us/step - accuracy: 0.7944 - loss: 0.3824 - val_accuracy: 0.8188 - val_loss: 0.3670\n",
      "Epoch 6/100\n",
      "36/36 - 0s - 554us/step - accuracy: 0.7932 - loss: 0.3723 - val_accuracy: 0.8098 - val_loss: 0.3537\n",
      "Epoch 7/100\n",
      "36/36 - 0s - 566us/step - accuracy: 0.8050 - loss: 0.3629 - val_accuracy: 0.8031 - val_loss: 0.3516\n",
      "Epoch 8/100\n",
      "36/36 - 0s - 580us/step - accuracy: 0.8114 - loss: 0.3552 - val_accuracy: 0.8300 - val_loss: 0.3393\n",
      "Epoch 9/100\n",
      "36/36 - 0s - 588us/step - accuracy: 0.8089 - loss: 0.3491 - val_accuracy: 0.8076 - val_loss: 0.3392\n",
      "Epoch 10/100\n",
      "36/36 - 0s - 566us/step - accuracy: 0.8108 - loss: 0.3444 - val_accuracy: 0.8345 - val_loss: 0.3304\n",
      "Epoch 11/100\n",
      "36/36 - 0s - 545us/step - accuracy: 0.8094 - loss: 0.3426 - val_accuracy: 0.8121 - val_loss: 0.3351\n",
      "Epoch 12/100\n",
      "36/36 - 0s - 539us/step - accuracy: 0.8159 - loss: 0.3380 - val_accuracy: 0.8255 - val_loss: 0.3275\n",
      "Epoch 13/100\n",
      "36/36 - 0s - 593us/step - accuracy: 0.8223 - loss: 0.3388 - val_accuracy: 0.8322 - val_loss: 0.3323\n",
      "Epoch 14/100\n",
      "36/36 - 0s - 574us/step - accuracy: 0.8181 - loss: 0.3358 - val_accuracy: 0.8367 - val_loss: 0.3293\n"
     ]
    },
    {
     "data": {
      "text/plain": [
       "<keras.src.callbacks.history.History at 0x28646f9d0>"
      ]
     },
     "execution_count": 76,
     "metadata": {},
     "output_type": "execute_result"
    }
   ],
   "source": [
    "input_size=10\n",
    "output_size=2\n",
    "hidden_layer_size=50\n",
    "\n",
    "model=tf.keras.Sequential([\n",
    "    tf.keras.layers.Dense(hidden_layer_size, activation='relu'),\n",
    "    tf.keras.layers.Dense(hidden_layer_size, activation='relu'),\n",
    "    tf.keras.layers.Dense(output_size, activation='softmax'),\n",
    "        ])\n",
    "\n",
    "model.compile(optimizer='adam', loss='sparse_categorical_crossentropy', metrics=['accuracy'])\n",
    "\n",
    "batch_size=100\n",
    "max_epochs=100\n",
    "\n",
    "early_stopping = tf.keras.callbacks.EarlyStopping(patience=2)\n",
    "\n",
    "model.fit(\n",
    "    train_inputs, \n",
    "    train_targets, \n",
    "    batch_size=batch_size, \n",
    "    epochs=max_epochs,\n",
    "    callbacks=[early_stopping],\n",
    "    validation_data=(validation_inputs, validation_targets), \n",
    "    verbose=2\n",
    ")"
   ]
  },
  {
   "cell_type": "markdown",
   "id": "2dcf8082-ba91-4107-a20e-4593cd096efd",
   "metadata": {},
   "source": [
    "Test the model"
   ]
  },
  {
   "cell_type": "code",
   "execution_count": 79,
   "id": "9fce7b83-bc21-41e1-abcd-e30b4c203239",
   "metadata": {},
   "outputs": [
    {
     "name": "stdout",
     "output_type": "stream",
     "text": [
      "\u001b[1m14/14\u001b[0m \u001b[32m━━━━━━━━━━━━━━━━━━━━\u001b[0m\u001b[37m\u001b[0m \u001b[1m0s\u001b[0m 497us/step - accuracy: 0.8272 - loss: 0.3346\n"
     ]
    }
   ],
   "source": [
    "test_loss, test_accuracy = model.evaluate(test_inputs, test_targets)"
   ]
  },
  {
   "cell_type": "code",
   "execution_count": 81,
   "id": "bab8fd80-835f-4617-83c3-bf0f8a24df7e",
   "metadata": {},
   "outputs": [
    {
     "name": "stdout",
     "output_type": "stream",
     "text": [
      "Test loss : 0.35. Test accuracy: 82.37%\n"
     ]
    }
   ],
   "source": [
    "print(\"Test loss : {0:.2f}. Test accuracy: {1:.2f}%\".format(test_loss, test_accuracy*100.))"
   ]
  }
 ],
 "metadata": {
  "kernelspec": {
   "display_name": "Python 3 (ipykernel)",
   "language": "python",
   "name": "python3"
  },
  "language_info": {
   "codemirror_mode": {
    "name": "ipython",
    "version": 3
   },
   "file_extension": ".py",
   "mimetype": "text/x-python",
   "name": "python",
   "nbconvert_exporter": "python",
   "pygments_lexer": "ipython3",
   "version": "3.11.5"
  }
 },
 "nbformat": 4,
 "nbformat_minor": 5
}
